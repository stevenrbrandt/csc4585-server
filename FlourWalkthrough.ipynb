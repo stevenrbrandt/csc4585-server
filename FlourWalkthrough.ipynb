{
 "cells": [
  {
   "cell_type": "code",
   "execution_count": null,
   "id": "f45ab01c",
   "metadata": {},
   "outputs": [],
   "source": [
    "from csc4585 import flour, java"
   ]
  },
  {
   "cell_type": "markdown",
   "id": "60b4092e",
   "metadata": {},
   "source": [
    "# Introductory Walkthrough to Flour\n",
    "This text assumes a background in Java.\n",
    "\n",
    "## Hello, world\n",
    "Hello world is a one-liner."
   ]
  },
  {
   "cell_type": "code",
   "execution_count": null,
   "id": "99e99c70",
   "metadata": {},
   "outputs": [],
   "source": [
    "%%flour\n",
    "\n",
    "println(\"Hello, world!\");"
   ]
  },
  {
   "cell_type": "markdown",
   "id": "e2360c2e",
   "metadata": {},
   "source": [
    "Unlike Java, Flour does not require your program to be contained within a class, nor does it have the concept of a main() function.\n",
    "\n",
    "If, for whatever reason, you want to emulate a main() function, you need to call that function in the top level."
   ]
  },
  {
   "cell_type": "code",
   "execution_count": null,
   "id": "3bff180c",
   "metadata": {},
   "outputs": [],
   "source": [
    "%%flour\n",
    "\n",
    "fn main() {\n",
    "    println(\"Hello, world!\");\n",
    "}\n",
    "\n",
    "main(); // We won't see any output without calling main() explicitly."
   ]
  },
  {
   "cell_type": "markdown",
   "id": "7c0e98ac",
   "metadata": {},
   "source": [
    "Like in Java, functions in Flour have return types. Our `fn main()` from the\n",
    "previous example did not declare a return type, so it is assumed to be `void`.\n",
    "\n",
    "In Java, `void` is a special case within the type system; it's not really a type,\n",
    "it just indicates the absence of a return value. In Flour, `void` is a proper\n",
    "type called a \"unit type\". This means we can have values of type `void`."
   ]
  },
  {
   "cell_type": "code",
   "execution_count": null,
   "id": "719e5cf7",
   "metadata": {},
   "outputs": [],
   "source": [
    "%%java\n",
    "\n",
    "public class Main {\n",
    "    static void foo() { }\n",
    "    \n",
    "    public static void main(String[] args) {\n",
    "        void val = foo(); // Nonsense in Java\n",
    "    }\n",
    "}"
   ]
  },
  {
   "cell_type": "code",
   "execution_count": null,
   "id": "5969f137",
   "metadata": {},
   "outputs": [],
   "source": [
    "%%flour\n",
    "\n",
    "fn foo() { }\n",
    "\n",
    "let val = foo(); // Perfectly legal in Flour!"
   ]
  },
  {
   "cell_type": "markdown",
   "id": "9e7e8b45",
   "metadata": {},
   "source": [
    "This is actually a useful property, and it will matter more later.\n",
    "\n",
    "As you may have noticed in the previous snippet, variables in Flour are declared with the `let` keyword. Like the `var` keyword in newer versions of Java, the type of the variable is inferred automatically. However, if you still want to declare the type explicitly, that's still possible."
   ]
  },
  {
   "cell_type": "code",
   "execution_count": null,
   "id": "f62f639d",
   "metadata": {},
   "outputs": [],
   "source": [
    "%%flour\n",
    "\n",
    "// We can infer that `five` is an int.\n",
    "let five = 5;\n",
    "\n",
    "// We say explicitly that `six` is an int.\n",
    "let six: int = 6;\n",
    "    \n",
    "// This syntax is equivalent to the one above; use whichever one you prefer.\n",
    "let int seven = 7;"
   ]
  },
  {
   "cell_type": "markdown",
   "id": "db95820f",
   "metadata": {},
   "source": [
    "Unlike in Java, variables in Flour are not allowed to be uninitialized. If you do not explicitly assign a value in a `let` clause, a reasonable default will be inferred based on the variable's type. \n",
    "\n",
    "If no such default exists for a given type, the program won't run."
   ]
  },
  {
   "cell_type": "code",
   "execution_count": null,
   "id": "cd91deb6",
   "metadata": {},
   "outputs": [],
   "source": [
    "%%flour\n",
    "\n",
    "let nothing;\n",
    "println(nothing);\n",
    "\n",
    "let zero: int;\n",
    "println(zero);"
   ]
  },
  {
   "cell_type": "markdown",
   "id": "fb10235d",
   "metadata": {},
   "source": [
    "## Getting to know Flour\n",
    "\n",
    "You're more than welcome to add your own cells to this notebook and experiment with Flour yourself. Any cell beginning with the `%%flour` magic will run as a Flour script. Take advantage of this to write your own programs or tinker with the existing cells.\n",
    "\n",
    "Most things, when passed to `println()` will produce friendly, easily-read output.\n",
    "\n",
    "You can also use the `type` keyword to inspect the type of things."
   ]
  },
  {
   "cell_type": "code",
   "execution_count": null,
   "id": "071257d1",
   "metadata": {},
   "outputs": [],
   "source": [
    "%%flour\n",
    "\n",
    "let hw = \"Hello, world!\";\n",
    "let five = 2 + 3;\n",
    "\n",
    "println(type(hw));\n",
    "println(type(five));\n",
    "println(type(type(five)));\n",
    "println(type(&println));"
   ]
  },
  {
   "cell_type": "markdown",
   "id": "439618da",
   "metadata": {},
   "source": [
    "## Functions\n",
    "\n",
    "What if we actually want to return something from a function in Flour?\n",
    "There are two ways to declare a return type; both are equivalent, so just\n",
    "use whichever one you find easier to read."
   ]
  },
  {
   "cell_type": "code",
   "execution_count": null,
   "id": "2270b6d6",
   "metadata": {},
   "outputs": [],
   "source": [
    "%%flour\n",
    "\n",
    "// More like Java, might become harder to read with more complex types:\n",
    "fn int two() { \n",
    "    return 2;\n",
    "}\n",
    "\n",
    "// Less like Java, easier to read with more complex types:\n",
    "fn three() -> int {\n",
    "    return 3;\n",
    "}"
   ]
  },
  {
   "cell_type": "markdown",
   "id": "190767bf",
   "metadata": {},
   "source": [
    "The `fn` keyword is always required, and is always the very first part\n",
    "of a standalone function declaration.\n",
    "\n",
    "Flour also supports anonymous functions, like Java's lambdas. Unlike\n",
    "lambdas in Java, which are sugar for anonymous inner classes, anonymous\n",
    "functions in Flour are first-class functions.\n",
    "\n",
    "Again, there are two ways to write the signature of an anonymous function,\n",
    "and both are equivalent."
   ]
  },
  {
   "cell_type": "code",
   "execution_count": null,
   "id": "068dc618",
   "metadata": {},
   "outputs": [],
   "source": [
    "%%flour\n",
    "\n",
    "// Syntax 1:\n",
    "let addFive = int(int a) {\n",
    "    return a + 5;\n",
    "};\n",
    "\n",
    "// Syntax 2:\n",
    "let addSix = (a: int) -> int {\n",
    "    return a + 6;\n",
    "};\n",
    "\n",
    "(addFive(1) + addSix(2)).println();"
   ]
  },
  {
   "cell_type": "markdown",
   "id": "a6792bb5",
   "metadata": {},
   "source": [
    "What's going on in the final line? Flour supports a syntax called UFCS\n",
    "(Uniform Function Call Syntax), which can be understood with the following\n",
    "simple rule:\n",
    "\n",
    "```\n",
    "a.f(b, c);\n",
    "\n",
    "is equivalent to\n",
    "\n",
    "f(a, b, c);\n",
    "```\n",
    "\n",
    "This is a useful property for several reasons. But it is important to remember\n",
    "that, unlike in Java, this dot-based function call syntax doesn't imply\n",
    "any special relationship between the function and the receiver."
   ]
  },
  {
   "cell_type": "code",
   "execution_count": null,
   "id": "baee6bb8",
   "metadata": {},
   "outputs": [],
   "source": [
    "%%flour\n",
    "\n",
    "let addSix = (a: int) -> int {\n",
    "    return a + 6;\n",
    "};\n",
    "\n",
    "5.addSix().println();"
   ]
  },
  {
   "cell_type": "markdown",
   "id": "c5159e61",
   "metadata": {},
   "source": [
    "## Expressions and Control Flow\n",
    "You should be familiar with the concept of expressions in Java.\n",
    "Expressions in Flour work similarly, but more types of things can be\n",
    "expressions.\n",
    "\n",
    "For example, basic control flow structures like conditionals and loops can\n",
    "be expressions in Flour. We call this \"Block Value\" (BV).\n",
    "\n",
    "Observe the following Java program, demonstrating an `if`, a `while`, and a `for`. In the cells that follow, we will look at those structures in Flour."
   ]
  },
  {
   "cell_type": "code",
   "execution_count": null,
   "id": "fb8f0c7e",
   "metadata": {},
   "outputs": [],
   "source": [
    "%%java\n",
    "\n",
    "import java.util.ArrayList;\n",
    "\n",
    "public class Main {\n",
    "    public static void main(String[] args) {\n",
    "        int val;\n",
    "\n",
    "        if (2 + 3 == 5) {\n",
    "            val = 10;\n",
    "        } else {\n",
    "            val = 20;\n",
    "        }\n",
    "        \n",
    "        System.out.printf(\"val = %d\\n\", val);\n",
    "\n",
    "        ArrayList<Integer> lst = new ArrayList<>();\n",
    "        while (val <= 100) {\n",
    "            lst.add(val);\n",
    "            val += 10;\n",
    "        }\n",
    "        \n",
    "        System.out.printf(\"lst = %s\\n\", lst);\n",
    "\n",
    "\n",
    "        int target = 50;\n",
    "        boolean found = false;\n",
    "        for (int i : lst) {\n",
    "            if (i == target) {\n",
    "                found = true;\n",
    "                break;\n",
    "            }\n",
    "        }\n",
    "        \n",
    "        System.out.printf(\"found = %b\\n\", found);\n",
    "    }\n",
    "}"
   ]
  },
  {
   "cell_type": "markdown",
   "id": "c3169d6a",
   "metadata": {},
   "source": [
    "In Flour, an expression standing by itself at the end a block becomes the value of that block.\n",
    "\n",
    "This is the simplest application of Block Value."
   ]
  },
  {
   "cell_type": "code",
   "execution_count": null,
   "id": "d42ab32d",
   "metadata": {},
   "outputs": [],
   "source": [
    "%%flour\n",
    "\n",
    "let five = {\n",
    "    println(\"2 + 3 is a standalone expression at the end of this block...\");\n",
    "    println(\"So it'll become the overall value of the block.\");\n",
    "    println(\"\");\n",
    "    \n",
    "    2 + 3\n",
    "};\n",
    "\n",
    "println(\"Five is ${five}.\");"
   ]
  },
  {
   "cell_type": "markdown",
   "id": "ed95bdbd",
   "metadata": {},
   "source": [
    "This allows an `if` expression to yield different values depending on which branch is taken."
   ]
  },
  {
   "cell_type": "code",
   "execution_count": null,
   "id": "6df759b3",
   "metadata": {
    "scrolled": true
   },
   "outputs": [],
   "source": [
    "%%flour\n",
    "\n",
    "let val = if 2 + 3 == 5 { \n",
    "    10    \n",
    "} else {\n",
    "    20\n",
    "};\n",
    "\n",
    "println(\"val = ${val}\");"
   ]
  },
  {
   "cell_type": "markdown",
   "id": "a8b71f85",
   "metadata": {},
   "source": [
    "The \"default\" value of any block is `void`. That means, if we don't explicitly give a value to something like an `if`, it will yield a `void`. This is a useful property; for example, we can often leave off the `else` from what would otherwise be a compound if-else expression."
   ]
  },
  {
   "cell_type": "code",
   "execution_count": null,
   "id": "151ab1e3",
   "metadata": {},
   "outputs": [],
   "source": [
    "%%flour\n",
    "\n",
    "let a = 5;\n",
    "let b = -2;\n",
    "\n",
    "let sqrtA = if a >= 0 {\n",
    "    a ^ 0.5\n",
    "};\n",
    "\n",
    "let sqrtB = if b >= 0 {\n",
    "    b ^ 0.5\n",
    "};\n",
    "\n",
    "println(\"sqrt(${a}) = ${sqrtA}\");\n",
    "println(\"sqrt(${b}) = ${sqrtB}\");"
   ]
  },
  {
   "cell_type": "markdown",
   "id": "b5ac08c9",
   "metadata": {},
   "source": [
    "Sometimes, when dealing with a value that might be `void`, we want to substitute a \"default\" value in place of `void`.\n",
    "\n",
    "This is accomplished with the `~` squiggle operator.\n",
    "\n",
    "(Yes, in this case, `else` also works just fine. We will soon look at some cases where `~` is more obviously the right choice.)"
   ]
  },
  {
   "cell_type": "code",
   "execution_count": null,
   "id": "2a2e9f79",
   "metadata": {},
   "outputs": [],
   "source": [
    "%%flour\n",
    "\n",
    "let a = 5;\n",
    "let b = -2;\n",
    "\n",
    "let sqrtA = if a >= 0 {\n",
    "    a ^ 0.5\n",
    "} ~ \"Can't sqrt a negative number!\";\n",
    "\n",
    "let sqrtB = if b >= 0 {\n",
    "    b ^ 0.5\n",
    "} ~ \"Can't sqrt a negative number!\";\n",
    "\n",
    "println(\"sqrt(${a}) = ${sqrtA}\");\n",
    "println(\"sqrt(${b}) = ${sqrtB}\");"
   ]
  },
  {
   "cell_type": "markdown",
   "id": "515c4f2b",
   "metadata": {},
   "source": [
    "When working with loops (`while`, `loop`, and `for`), there are two ways to yield a value: `push` and `break`.\n",
    "\n",
    "Loops maintain an internal list which can be appended to with `push`. This internal list becomes the overall value of the loop, unless the list is empty."
   ]
  },
  {
   "cell_type": "code",
   "execution_count": null,
   "id": "92fe8725",
   "metadata": {},
   "outputs": [],
   "source": [
    "%%flour\n",
    "\n",
    "let val = 10;\n",
    "\n",
    "let lst = while val <= 100 {\n",
    "    push val;\n",
    "    val = val + 10;\n",
    "};\n",
    "\n",
    "println(\"lst = ${lst}\");"
   ]
  },
  {
   "cell_type": "markdown",
   "id": "edb052fd",
   "metadata": {},
   "source": [
    "If you use a plain `break;` to exit the loop early, any `push`ed elements are preserved."
   ]
  },
  {
   "cell_type": "code",
   "execution_count": null,
   "id": "38ef1d0e",
   "metadata": {},
   "outputs": [],
   "source": [
    "%%flour\n",
    "\n",
    "let bound = 5;\n",
    "let i = 0;\n",
    "\n",
    "let lst = loop {\n",
    "    if i >= bound {\n",
    "        break; // Plain `break` preserves the internal list\n",
    "    }\n",
    "    \n",
    "    push i;\n",
    "    i = i + 1;\n",
    "};\n",
    "\n",
    "println(lst);"
   ]
  },
  {
   "cell_type": "markdown",
   "id": "c0c32a80",
   "metadata": {},
   "source": [
    "If no `push`es occurred, the default value of `void` is used, *not* the empty list."
   ]
  },
  {
   "cell_type": "code",
   "execution_count": null,
   "id": "4adf8289",
   "metadata": {},
   "outputs": [],
   "source": [
    "%%flour\n",
    "\n",
    "let foo = loop { \n",
    "    break; \n",
    "};\n",
    "\n",
    "println(foo); // No `push`es occurred, so `foo` is void.\n",
    "\n",
    "let bar = loop { \n",
    "    break; \n",
    "} ~ []; // We can use `~` if we want an empty list in this case.\n",
    "\n",
    "println(bar);"
   ]
  },
  {
   "cell_type": "markdown",
   "id": "320c3b5d",
   "metadata": {},
   "source": [
    "When loops are nested, `push` always targets the \"nearest\" loop. To specify exactly which level `push` should target, you can use a label."
   ]
  },
  {
   "cell_type": "code",
   "execution_count": null,
   "id": "59ee4c50",
   "metadata": {},
   "outputs": [],
   "source": [
    "%%flour\n",
    "// TODO: This example needs the 2023-08-19 build of Flour!\n",
    "\n",
    "let tops = [\"Pullover\", \"Tshirt\", \"Sweater\"];\n",
    "let bottoms = [\"Jeans\", \"Khakis\", \"Shorts\"];\n",
    "\n",
    "let pairs = for i in tops @outer {\n",
    "    for j in bottoms {\n",
    "        push @outer (i, j); // Explicitly push to `for i in...` marked with the @outer label\n",
    "    }\n",
    "};\n",
    "\n",
    "for pair in pairs {\n",
    "    println(pair);\n",
    "}"
   ]
  },
  {
   "cell_type": "markdown",
   "id": "7ac951e9",
   "metadata": {},
   "source": [
    "You could also just use multiple nested `push` statements to propagate elements up several levels, though this will result in a nested list."
   ]
  },
  {
   "cell_type": "code",
   "execution_count": null,
   "id": "d43eadb9",
   "metadata": {},
   "outputs": [],
   "source": [
    "%%flour\n",
    "\n",
    "let tops = [\"Pullover\", \"Tshirt\", \"Sweater\"];\n",
    "let bottoms = [\"Jeans\", \"Khakis\", \"Shorts\"];\n",
    "\n",
    "let pairs = for i in tops {\n",
    "    push for j in bottoms {  // This push targets `for i in...`\n",
    "        push (i, j);         // This push targets `for j in...`\n",
    "    };\n",
    "};\n",
    "\n",
    "for pair in pairs {\n",
    "    println(pair);\n",
    "}"
   ]
  },
  {
   "cell_type": "markdown",
   "id": "d36f438c",
   "metadata": {},
   "source": [
    "As an aside: if you have a nested list which you want to flatten out, you could use the `flatMap()` function from the `lists` library."
   ]
  },
  {
   "cell_type": "code",
   "execution_count": null,
   "id": "00e2e2e6",
   "metadata": {},
   "outputs": [],
   "source": [
    "%%flour\n",
    "\n",
    "import lists;\n",
    "\n",
    "let tops = [\"Pullover\", \"Tshirt\", \"Sweater\"];\n",
    "let bottoms = [\"Jeans\", \"Khakis\", \"Shorts\"];\n",
    "\n",
    "let pairs = for i in tops {\n",
    "    push for j in bottoms {  // This push targets `for i in...`\n",
    "        push (i, j);         // This push targets `for j in...`\n",
    "    };\n",
    "}.flatMap();                 /* Since we had nested `push`es, we end up with nested lists.\n",
    "                                lists::flatMap() will flatten the list for us. */\n",
    "\n",
    "for pair in pairs {\n",
    "    println(pair);\n",
    "}"
   ]
  },
  {
   "cell_type": "markdown",
   "id": "b8a24dfa",
   "metadata": {},
   "source": [
    "We can also use `break` to yield a value from a loop. Unlike a plain `break`, `break`ing with a value will override anything appended with `push`."
   ]
  },
  {
   "cell_type": "code",
   "execution_count": null,
   "id": "71570e46",
   "metadata": {},
   "outputs": [],
   "source": [
    "%%flour\n",
    "\n",
    "let target = 50;\n",
    "let lst = [10..=100 by 10]; // Just carrying over from a previous cell...\n",
    "\n",
    "let found = for i in lst {\n",
    "    if i == target {\n",
    "        break true;\n",
    "    }\n",
    "} ~ false; // In the case where we never hit `break true;`, replace `void` with `false`.\n",
    "\n",
    "println(\"found = ${found}\");"
   ]
  },
  {
   "cell_type": "markdown",
   "id": "4b5ea8d6",
   "metadata": {},
   "source": [
    "`break` can target a label in the same way as `push`."
   ]
  },
  {
   "cell_type": "code",
   "execution_count": null,
   "id": "8a53e92b",
   "metadata": {},
   "outputs": [],
   "source": [
    "%%flour\n",
    "// TODO: This example needs the 2023-08-19 build of Flour!\n",
    "\n",
    "let tops = [\"Pullover\", \"Tshirt\", \"Sweater\"];\n",
    "let bottoms = [\"Jeans\", \"Khakis\", \"Shorts\"];\n",
    "\n",
    "let sweaterAndJeans = for i in tops @outer {\n",
    "    for j in bottoms {\n",
    "        if (i, j) == (\"Sweater\", \"Jeans\") {\n",
    "            break @outer (i, j);\n",
    "        }\n",
    "    }\n",
    "};\n",
    "\n",
    "match sweaterAndJeans {\n",
    "    (string, string) pair -> \"Found pair! \" + pair,\n",
    "    _                     -> \"Didn't find the pair.\"\n",
    "}.println();"
   ]
  },
  {
   "cell_type": "markdown",
   "id": "8921045a",
   "metadata": {},
   "source": [
    "Notice that only one style of `for` loop is available. It is similar to the \"enhanced for-loop\" in Java."
   ]
  },
  {
   "cell_type": "code",
   "execution_count": null,
   "id": "a7471039",
   "metadata": {},
   "outputs": [],
   "source": [
    "%%flour\n",
    "\n",
    "let lst = [1, 2, 3];\n",
    "for element in lst {\n",
    "    println(element);\n",
    "}"
   ]
  },
  {
   "cell_type": "markdown",
   "id": "9edad1b7",
   "metadata": {},
   "source": [
    "Recall that when an expression is sitting by itself at the end of a block `{ }`, it becomes the value of that block. This also extends to the return values of functions."
   ]
  },
  {
   "cell_type": "code",
   "execution_count": null,
   "id": "9d428bad",
   "metadata": {},
   "outputs": [],
   "source": [
    "%%flour\n",
    "\n",
    "fn add(a: int, b: int) -> int {\n",
    "    a + b\n",
    "}\n",
    "\n",
    "println(add(2, 3));"
   ]
  },
  {
   "cell_type": "markdown",
   "id": "d216099d",
   "metadata": {},
   "source": [
    "For maximum brevity, you could also use fat-arrow `=>` syntax. This only works with a single standalone expression."
   ]
  },
  {
   "cell_type": "code",
   "execution_count": null,
   "id": "085be3f9",
   "metadata": {},
   "outputs": [],
   "source": [
    "%%flour\n",
    "\n",
    "fn add(a: int, b: int) -> int => a + b\n",
    "\n",
    "println(add(2, 3));"
   ]
  },
  {
   "cell_type": "markdown",
   "id": "7afc6799",
   "metadata": {},
   "source": [
    "## Unions (and some other relevant types)\n",
    "An important concept in Flour is the *union*, a type which can represent one of a given set of types."
   ]
  },
  {
   "cell_type": "code",
   "execution_count": null,
   "id": "4e6920e3",
   "metadata": {},
   "outputs": [],
   "source": [
    "%%flour\n",
    "\n",
    "fn foo(b: bool) -> int|string {\n",
    "    return if b {\n",
    "        5\n",
    "    } else {\n",
    "        \"five\"\n",
    "    };\n",
    "}\n",
    "\n",
    "foo(true).println();\n",
    "foo(false).println();\n",
    "\n",
    "println(\"\");\n",
    "\n",
    "type(foo(true)).println();\n",
    "type(foo(false)).println();"
   ]
  },
  {
   "cell_type": "markdown",
   "id": "baabc599",
   "metadata": {},
   "source": [
    "In the above example, the function `foo()` can return either an integer or \n",
    "a string. You can think of the type `int|string` as \"int OR string\".\n",
    "\n",
    "There are a few ways to deal with union types, like `match`.\n",
    "A `match` statement functions a bit like Java's `switch` statement, but with\n",
    "an important difference: while `switch` chooses a path based on the value's\n",
    "identity, `match` chooses a path based on the value's *type*.\n",
    "\n",
    "Like the other control flow statements, `match` can potentially\n",
    "yield a value."
   ]
  },
  {
   "cell_type": "code",
   "execution_count": null,
   "id": "88bfb245",
   "metadata": {},
   "outputs": [],
   "source": [
    "%%flour\n",
    "\n",
    "fn foo(b: bool) -> int|string {\n",
    "    return if b {\n",
    "        5\n",
    "    } else {\n",
    "        \"five\"\n",
    "    };\n",
    "}\n",
    "\n",
    "match foo(false) {\n",
    "    string strValue -> {\n",
    "        println(\"Got a string: ${strValue}\");\n",
    "    },\n",
    "    int intValue -> {\n",
    "        println(\"Got an int: ${intValue}\");\n",
    "    }\n",
    "}\n",
    "\n",
    "let n = foo(true);\n",
    "print(\"Square of ${n}: \");\n",
    "match n {\n",
    "    int intValue -> intValue * intValue,\n",
    "    _            -> -1\n",
    "}.println();"
   ]
  },
  {
   "cell_type": "markdown",
   "id": "a2f51f43",
   "metadata": {},
   "source": [
    "`_` means \"anything else\", like `default` in a Java switch statement.\n",
    "\n",
    "When using an `if` expression as a value, the default value is `void` if no `else` branch is present."
   ]
  },
  {
   "cell_type": "code",
   "execution_count": null,
   "id": "fd59a664",
   "metadata": {},
   "outputs": [],
   "source": [
    "%%flour\n",
    "\n",
    "let func = (int n) {\n",
    "    return if n > 0 {\n",
    "        n * 3\n",
    "    };\n",
    "};\n",
    "\n",
    "println(func(2));\n",
    "println(func(-5));"
   ]
  },
  {
   "cell_type": "markdown",
   "id": "3da5255d",
   "metadata": {},
   "source": [
    "The type `*` is special. It's known as \"wild\", and it can represent any type. It is at the top of the type hierarchy, like Java's `Object`."
   ]
  },
  {
   "cell_type": "code",
   "execution_count": null,
   "id": "09c6abe8",
   "metadata": {},
   "outputs": [],
   "source": [
    "%%flour\n",
    "\n",
    "fn identity(x: *) -> * {\n",
    "    return x;\n",
    "}\n",
    "\n",
    "println(identity(\"foo\"));\n",
    "println(identity(5));"
   ]
  },
  {
   "cell_type": "markdown",
   "id": "fcec5ba6",
   "metadata": {},
   "source": [
    "The `*` type should only be used when there are no other alternatives, which is a situation that almost never arises.\n",
    "\n",
    "You might think about using `*` to write functions and data structures that work on arbitrary types of input. As we'll see later, Flour offers a much better mechanism for writing generic code.\n",
    "\n",
    "If you're curious, this is the proper way of writing a function like `identity()`, using a mechanism similar to generic types in Java:"
   ]
  },
  {
   "cell_type": "code",
   "execution_count": null,
   "id": "77cc5658",
   "metadata": {},
   "outputs": [],
   "source": [
    "%%flour\n",
    "\n",
    "fn [T] identity(x: T) -> T {\n",
    "    return x;\n",
    "}\n",
    "\n",
    "println(identity(\"foo\"));\n",
    "println(identity(5));"
   ]
  },
  {
   "cell_type": "markdown",
   "id": "b0766e37",
   "metadata": {},
   "source": [
    "#### Exercise\n",
    "Correctly annotate the return type of the function `foo()`. The type cannot include `*`."
   ]
  },
  {
   "cell_type": "code",
   "execution_count": null,
   "id": "956730f6",
   "metadata": {},
   "outputs": [],
   "source": [
    "%%flour\n",
    "\n",
    "// Starter code:\n",
    "fn foo(int a, string b) -> ??? {\n",
    "    return if a < -5 {\n",
    "        a * 7\n",
    "    } else if a > 5 {\n",
    "        b\n",
    "    };\n",
    "}\n",
    "\n",
    "// Driver code:\n",
    "foo(0, \"foo\").println();\n",
    "foo(16, \"foo\").println();\n",
    "foo(-20, \"foo\").println();"
   ]
  },
  {
   "cell_type": "markdown",
   "id": "315cb41a",
   "metadata": {},
   "source": [
    "In Java, any (reference) type can also hold a `null` value.\n",
    "This isn't possible in Flour, which doesn't have the concept of null. Instead,\n",
    "if we want to express the type of a value that might be absent, we use a\n",
    "union of that type with `void`."
   ]
  },
  {
   "cell_type": "code",
   "execution_count": null,
   "id": "7761ee65",
   "metadata": {},
   "outputs": [],
   "source": [
    "%%java\n",
    "\n",
    "public class Main {\n",
    "    static String[] digits = {\n",
    "            \"zero\", \"one\", \"two\", \"three\", \"four\", \n",
    "            \"five\", \"six\", \"seven\", \"eight\", \"nine\"\n",
    "    };\n",
    "    \n",
    "    static String digit(int d) {\n",
    "        if (d < 0 || d > 9) {\n",
    "            return null;\n",
    "        } else {\n",
    "            return digits[d];\n",
    "        }\n",
    "    }\n",
    "    \n",
    "    public static void main(String[] args) {\n",
    "        System.out.println(digit(7));  // \"seven\"\n",
    "        System.out.println(digit(55)); // null\n",
    "    }\n",
    "}"
   ]
  },
  {
   "cell_type": "code",
   "execution_count": null,
   "id": "eaa249ec",
   "metadata": {},
   "outputs": [],
   "source": [
    "%%flour\n",
    "\n",
    "let digits = [\n",
    "        \"zero\", \"one\", \"two\", \"three\", \"four\",\n",
    "        \"five\", \"six\", \"seven\", \"eight\", \"nine\"\n",
    "];\n",
    "\n",
    "fn digit(d: int) -> string|void {\n",
    "    if d < 0 || d > 9 {\n",
    "        return (); // `()` represents the value of type `void`.\n",
    "    } else {\n",
    "        return digits[d];\n",
    "    }\n",
    "}\n",
    "\n",
    "println(digit(7));  // \"seven\"\n",
    "println(digit(55)); // void\n"
   ]
  },
  {
   "cell_type": "markdown",
   "id": "2fb0adf4",
   "metadata": {},
   "source": [
    "#### Exercise\n",
    "Below, find a partially-completed version of the `digit()` function which is written with Block Value syntax.\n",
    "Try to complete the function, replacing instances of `???`.\n",
    "\n",
    "Remember that the default value of an `if` expression is `void`."
   ]
  },
  {
   "cell_type": "code",
   "execution_count": null,
   "id": "a4dad2c9",
   "metadata": {},
   "outputs": [],
   "source": [
    "%%flour\n",
    "\n",
    "// Starter code:\n",
    "\n",
    "fn digit(d: int) -> string|void {\n",
    "    return if ??? {\n",
    "        ???\n",
    "    };\n",
    "}\n",
    "\n",
    "// Driver code:\n",
    "    \n",
    "let digits = [\n",
    "        \"zero\", \"one\", \"two\", \"three\", \"four\",\n",
    "        \"five\", \"six\", \"seven\", \"eight\", \"nine\"\n",
    "];\n",
    "\n",
    "println(digit(7));  // \"seven\"\n",
    "println(digit(55)); // void"
   ]
  },
  {
   "cell_type": "markdown",
   "id": "654d638c",
   "metadata": {},
   "source": [
    "Unions can be any arity above 1, so a type such as `int|float|string|void`\n",
    "(int OR float OR string OR void) is legal,\n",
    "even if clumsy.\n",
    "\n",
    "As an aside, the built-in type `number` represents the union `int|float|real`.\n",
    "\n",
    "\n",
    "## Product Types (Data Structures)\n",
    "Consider the following class in Java."
   ]
  },
  {
   "cell_type": "code",
   "execution_count": null,
   "id": "17741f6b",
   "metadata": {},
   "outputs": [],
   "source": [
    "%%java\n",
    "\n",
    "public class Student {\n",
    "    \n",
    "    public String name;\n",
    "    public int id;\n",
    "\n",
    "    public Student(String name, int id) {\n",
    "        this.name = name;\n",
    "        this.id = id;\n",
    "    }\n",
    "\n",
    "    public static void main(String[] args) {\n",
    "        Student s = new Student(\"Ada Lovelace\", 11223344);\n",
    "        System.out.printf(\"Name: %s, Id: %d\", s.name, s.id);\n",
    "    }\n",
    "}"
   ]
  },
  {
   "cell_type": "markdown",
   "id": "de56851f",
   "metadata": {},
   "source": [
    "Flour does not have classes. Instead, we can represent this sort of product\n",
    "type in one of two ways: using tuples, or using tables.\n",
    "\n",
    "### Tables\n",
    "\n",
    "Tables associate names with values."
   ]
  },
  {
   "cell_type": "code",
   "execution_count": null,
   "id": "4343bd36",
   "metadata": {},
   "outputs": [],
   "source": [
    "%%flour\n",
    "\n",
    "let t = {\n",
    "    name -> \"Ada Lovelace\",\n",
    "    id   -> 11223344\n",
    "};\n",
    "\n",
    "println(t);\n",
    "println(\"Name: \" + t.name);"
   ]
  },
  {
   "cell_type": "markdown",
   "id": "a2ee625e",
   "metadata": {},
   "source": [
    "If you want to define a type of table\n",
    "which holds specific values, you define an *archetype*. An instance of \n",
    "a table which is associated with an archetype is called an *object*.\n",
    "This brings us closer to classes in Java."
   ]
  },
  {
   "cell_type": "code",
   "execution_count": null,
   "id": "3a34c1e7",
   "metadata": {},
   "outputs": [],
   "source": [
    "%%flour\n",
    "\n",
    "archetype Student {\n",
    "    name: string,\n",
    "    id:   int\n",
    "}\n",
    "\n",
    "let t = Student {\n",
    "    name -> \"Ada Lovelace\",\n",
    "    id   -> 11223344\n",
    "};\n",
    "\n",
    "println(t);\n",
    "println(\"Name: \" + t.name);"
   ]
  },
  {
   "cell_type": "markdown",
   "id": "244a48d2",
   "metadata": {},
   "source": [
    "#### Exercise\n",
    "Try translating the following Java class into a Flour archetype (don't worry about main)."
   ]
  },
  {
   "cell_type": "code",
   "execution_count": null,
   "id": "20fb05c6",
   "metadata": {},
   "outputs": [],
   "source": [
    "%%java\n",
    "\n",
    "public class Airplane {\n",
    "    public String company;\n",
    "    public int model;\n",
    "    public float price;\n",
    "    \n",
    "    public Airplane(String company, int model, float price) {\n",
    "        this.company = company;\n",
    "        this.model = model;\n",
    "        this.price = price;\n",
    "    }\n",
    "    \n",
    "    public static void main(String[] args) {\n",
    "        Airplane jane = new Airplane(\"Boeing\", 747, 200000000.00f);\n",
    "        System.out.printf(\"%s %d %f\", jane.company, jane.model, jane.price);\n",
    "    }\n",
    "}"
   ]
  },
  {
   "cell_type": "code",
   "execution_count": null,
   "id": "a5731c07",
   "metadata": {},
   "outputs": [],
   "source": [
    "%%flour\n",
    "\n",
    "// Starter code:\n",
    "archetype Airplane {\n",
    "    ???\n",
    "}\n",
    "\n",
    "// Driver code:\n",
    "let jane = Airplane {\n",
    "    company -> \"Boeing\",\n",
    "    model   -> 747,\n",
    "    price   -> 200000000.00\n",
    "};\n",
    "\n",
    "println(\"${jane.company} ${jane.model} ${jane.price}\");"
   ]
  },
  {
   "cell_type": "markdown",
   "id": "0b7bc4e7",
   "metadata": {},
   "source": [
    "Defining an archetype also allows us to define member functions."
   ]
  },
  {
   "cell_type": "code",
   "execution_count": null,
   "id": "5bdcd432",
   "metadata": {},
   "outputs": [],
   "source": [
    "%%flour\n",
    "\n",
    "archetype Student {\n",
    "    name: string,\n",
    "    id:   int\n",
    "}\n",
    "\n",
    "fn<Student> getInfo() -> string {\n",
    "    \"Name: ${this.name}, Id: ${this.id}\"\n",
    "}\n",
    "\n",
    "let t = Student {\n",
    "    name -> \"Ada Lovelace\",\n",
    "    id   -> 11223344\n",
    "};\n",
    "\n",
    "println(t.getInfo());"
   ]
  },
  {
   "cell_type": "markdown",
   "id": "df79b409",
   "metadata": {},
   "source": [
    "It's also possible to define a constructor. \n",
    "Unlike in Java, constructors are nothing special. They simply provide a shorthand to\n",
    "define a function with the same name and return type as the archetype."
   ]
  },
  {
   "cell_type": "code",
   "execution_count": null,
   "id": "441a6082",
   "metadata": {},
   "outputs": [],
   "source": [
    "%%flour\n",
    "\n",
    "archetype Student {\n",
    "    name: string,\n",
    "    id:   int\n",
    "}\n",
    "\n",
    "constructor<Student>(string name, int theId) {\n",
    "    // We don't need to declare the table as being a `Student`, it's inferred since we're in the constructor\n",
    "    return { \n",
    "        $name,       // $name is the same as name -> name\n",
    "        id -> theId\n",
    "    }; \n",
    "}\n",
    "\n",
    "// This is an even shorter form of constructor which allows us to skip the nested pair of `{}`\n",
    "constructor<Student>() {\n",
    "    name -> \"John Doe\",\n",
    "    id   -> 9999\n",
    "}\n",
    "\n",
    "fn<Student> getInfo() -> string {\n",
    "    \"Name: ${this.name}, Id: ${this.id}\"\n",
    "}\n",
    "\n",
    "let t = Student(\"Ada Lovelace\", 11223344); // Note the lack of `new`\n",
    "let u = Student();\n",
    "\n",
    "println(t.getInfo());\n",
    "println(u.getInfo());"
   ]
  },
  {
   "cell_type": "markdown",
   "id": "68fb17d4",
   "metadata": {},
   "source": [
    "### Tuples\n",
    "Tuples offer a different approach towards product types, more akin to a\n",
    "functional programming style. Instead of binding names to values, tuples\n",
    "use indices like lists. Unlike lists, tuples cannot change in size, and are\n",
    "immutable (i.e. their contents cannot change).\n",
    "\n",
    "In their most basic form, tuples are useful for tasks such as returning\n",
    "multiple values from a function."
   ]
  },
  {
   "cell_type": "code",
   "execution_count": null,
   "id": "2e44912a",
   "metadata": {},
   "outputs": [],
   "source": [
    "%%flour\n",
    "\n",
    "fn quotientAndRemainder(number x, number y) -> (number, number) {\n",
    "    return (floor(x/y), x%y);\n",
    "}\n",
    "\n",
    "quotientAndRemainder(5, 2).println(); // (2, 1)\n",
    "\n",
    "let qr = quotientAndRemainder(6, 4);\n",
    "println(\"remainder: ${qr.1}\"); // remainder: 2\n",
    "\n",
    "let (quot, rem) = quotientAndRemainder(18, 4);\n",
    "println(\"15/4 = ${quot} R${rem}\"); // 15/4 = 4 R2"
   ]
  },
  {
   "cell_type": "markdown",
   "id": "a9069f58",
   "metadata": {},
   "source": [
    "#### Exercise\n",
    "Complete the sqrt() function. The function should return a tuple of two numbers: the real and imaginary parts of one complex number."
   ]
  },
  {
   "cell_type": "code",
   "execution_count": null,
   "id": "ddd83462",
   "metadata": {},
   "outputs": [],
   "source": [
    "%%flour\n",
    "\n",
    "fn sqrt(number x) -> (number, number) {\n",
    "    return if x >= 0 {\n",
    "        ???\n",
    "    } else {\n",
    "        ???\n",
    "    };\n",
    "}\n",
    "\n",
    "// Driver code:\n",
    "println(sqrt(16));\n",
    "println(sqrt(-9));"
   ]
  },
  {
   "cell_type": "markdown",
   "id": "f64d94d7",
   "metadata": {},
   "source": [
    "This is how we might represent our Student type from before as a tuple."
   ]
  },
  {
   "cell_type": "code",
   "execution_count": null,
   "id": "07ce9638",
   "metadata": {},
   "outputs": [],
   "source": [
    "%%flour\n",
    "\n",
    "typedef Student = (string, int);\n",
    "\n",
    "fn Student(string name, int id) -> Student {\n",
    "    return (name, id);\n",
    "}\n",
    "\n",
    "fn name(Student s) -> string {\n",
    "    return s.0;\n",
    "}\n",
    "\n",
    "fn id(Student s) -> int {\n",
    "    return s.1;\n",
    "}\n",
    "\n",
    "fn getInfo(Student s) -> string {\n",
    "    return \"Name: ${s.name()}, Id: ${s.id()}\";\n",
    "}\n",
    "\n",
    "let t = Student(\"Ada Lovelace\", 11223344);\n",
    "\n",
    "println(t.getInfo());"
   ]
  },
  {
   "cell_type": "markdown",
   "id": "c234935c",
   "metadata": {},
   "source": [
    "The first line contains a `typedef`, a mechanism which allows us to refer to a complex type by a given name."
   ]
  },
  {
   "cell_type": "markdown",
   "id": "40b6de43",
   "metadata": {},
   "source": [
    "Notice how the final two lines, the code which actually interacts with our type,\n",
    "are unchanged from the previous example using `archetype`.\n",
    "While tuples and tables are fundamentally different, they can accomplish\n",
    "many of the same abstractions. In general, archetypes are a bit easier to set\n",
    "up and understand, but tuples have more capabilities.\n",
    "\n",
    "## I/O\n",
    "`print()` and `println()` work as you'd expect in Java."
   ]
  },
  {
   "cell_type": "code",
   "execution_count": null,
   "id": "aceabbe6",
   "metadata": {},
   "outputs": [],
   "source": [
    "%%flour\n",
    "\n",
    "print(\"1 + 2 = \");\n",
    "println(3);"
   ]
  },
  {
   "cell_type": "markdown",
   "id": "546cd7db",
   "metadata": {},
   "source": [
    "`printf()` does not exist, but string interpolation can accomplish the\n",
    "same task.\n",
    "Anything enclosed in `${}` within a string literal will be evaluated as a \n",
    "Flour expression and substituted into the string."
   ]
  },
  {
   "cell_type": "code",
   "execution_count": null,
   "id": "710721ef",
   "metadata": {},
   "outputs": [],
   "source": [
    "%%flour\n",
    "\n",
    "println(\"1 + 2 = ${1+2}\");"
   ]
  },
  {
   "cell_type": "markdown",
   "id": "716c1900",
   "metadata": {},
   "source": [
    "`readln()` gets a line of input from stdin.\n",
    "\n",
    "However, due to limitations imposed by the Jupyter notebook, using `readln()` within a Flour cell is impossible.\n",
    "We can partially solve this problem with the magical `${input}` directive, used as follows:"
   ]
  },
  {
   "cell_type": "code",
   "execution_count": null,
   "id": "a1196f3e",
   "metadata": {},
   "outputs": [],
   "source": [
    "%%flour\n",
    "\n",
    "println(\"Intro.\");\n",
    "\n",
    "let foo = ${input(\"Type something\")};\n",
    "let foobar = ${input(\"Type something else\")};\n",
    "\n",
    "println(\"You typed: `${foo}` and also `${foobar}`\");\n",
    "\n",
    "println(\"Outro.\");"
   ]
  },
  {
   "cell_type": "markdown",
   "id": "947881a0",
   "metadata": {},
   "source": [
    "This directive is processed before the program runs, meaning we cannot interactively get input from the user; we must get it all at once before any Flour code can execute. Notice how, in the above example, `\"Intro\"` was not printed to the screen until input was provided."
   ]
  },
  {
   "cell_type": "code",
   "execution_count": null,
   "id": "29240167",
   "metadata": {
    "scrolled": false
   },
   "outputs": [],
   "source": [
    "%%flour\n",
    "\n",
    "let name = ${input(\"Type your name\")};\n",
    "\n",
    "let typedAge = ${input(\"Type your age\")};\n",
    "let age = typedAge.parseInt() as! int;\n",
    "\n",
    "println(\"Name: ${name}, Age: ${age}\");"
   ]
  },
  {
   "cell_type": "markdown",
   "id": "13279d8f",
   "metadata": {},
   "source": [
    "`parseInt()` takes a string, and returns `int|void`. If the string isn't\n",
    "recognized as a valid integer, the `void` value is returned. By using\n",
    "`as!` here, we are asserting that `parseInt()` will return an `int`, not `void`.\n",
    "If this turns out not to be the case, the program will crash.\n",
    "\n",
    "Since the user might type a bad value when prompted for the age, we should\n",
    "probably handle that case explicitly.\n",
    "\n",
    "Were we not limited by Jupyter, we might even add a loop which keeps asking the user to retry until an acceptable input is provided."
   ]
  },
  {
   "cell_type": "code",
   "execution_count": null,
   "id": "5c08555b",
   "metadata": {
    "scrolled": true
   },
   "outputs": [],
   "source": [
    "%%flour \n",
    "\n",
    "let name = ${input(\"Type your name\")};\n",
    "\n",
    "let age = match ${input(\"Type your age\")}.parseInt() {\n",
    "    int age -> age,\n",
    "    _       -> println(\"Invalid age was provided.\")\n",
    "};\n",
    "\n",
    "println(\"Name: ${name}, Age: ${age}\");"
   ]
  },
  {
   "cell_type": "markdown",
   "id": "c39bedc6",
   "metadata": {},
   "source": [
    "We could also assume a default value with the `~` operator."
   ]
  },
  {
   "cell_type": "code",
   "execution_count": null,
   "id": "c004fcc3",
   "metadata": {
    "scrolled": true
   },
   "outputs": [],
   "source": [
    "%%flour\n",
    "\n",
    "let name = ${input(\"Type your name\")};\n",
    "\n",
    "let age = ${input(\"Type your age\")}.parseInt() ~ 0;\n",
    "\n",
    "println(\"Name: ${name}, Age: ${age}\");"
   ]
  },
  {
   "cell_type": "markdown",
   "id": "68f75b07",
   "metadata": {},
   "source": [
    "#### Exercise\n",
    "\n",
    "Using `for`, `match`, and `push`, produce a new list which contains all the elements of `lst` which are not `void`.\n",
    "Replace `???` with your own code."
   ]
  },
  {
   "cell_type": "code",
   "execution_count": null,
   "id": "ce1856e7",
   "metadata": {},
   "outputs": [],
   "source": [
    "%%flour\n",
    "\n",
    "// Starter code below //\n",
    "let lst = [1, 3, 5, (), 12, (), (), 16, 27];\n",
    "\n",
    "let filteredLst = for num in lst {\n",
    "    ???\n",
    "};\n",
    "\n",
    "// Driver code below //\n",
    "println(filteredLst);\n",
    "println(filteredLst == [1, 3, 5, 12, 16, 27]);"
   ]
  },
  {
   "cell_type": "markdown",
   "id": "9497ecf4",
   "metadata": {},
   "source": [
    "## Lists\n",
    "Lists work largely the same as Java's ArrayList, but you can use `[]` syntax for indexing, like Java's arrays. `add()`, `remove()`, `contains()`, and other basic ArrayList operations are available.\n",
    "\n",
    "You can use list literal syntax to create a list. For example, the expression `[1, 2, 3]` creates a list containing those three integers.\n",
    "\n",
    "Lists always have a specific type, such as `list<string>` for a list containing only `string`s. The type of a list can usually be inferred by the language when using list literal syntax.\n",
    "\n",
    "You may sometimes need to specify the type of a list when creating it, especially when the list is initially empty. For example, `<int>[]` creates an empty `list<int>`.\n",
    "\n",
    "You can use range syntax `[x..y]` to quickly create a list with ascending numbers between `x` and `y`.\n",
    "This syntax is also useful for `for` loops when you want to iterate a set number of times.\n",
    "\n",
    "You can use the *put* operator `<-` to quickly append to a list.\n",
    "You can concatenate two lists with `+`."
   ]
  },
  {
   "cell_type": "code",
   "execution_count": null,
   "id": "79aaa40f",
   "metadata": {},
   "outputs": [],
   "source": [
    "%%flour\n",
    "\n",
    "let lst = [1, 2, 3];\n",
    "println(lst);\n",
    "\n",
    "lst = [10..20];\n",
    "println(lst);\n",
    "\n",
    "lst[1] = 5;\n",
    "println(lst);\n",
    "\n",
    "lst.remove(0);\n",
    "println(lst);\n",
    "\n",
    "lst.add(99, 0);\n",
    "println(lst);\n",
    "\n",
    "lst <- 55;\n",
    "lst <- 66;\n",
    "\n",
    "println(lst);\n",
    "println(\"Length: \" + lst.len());\n",
    "\n",
    "println([1..5] + [5..=10]);"
   ]
  },
  {
   "cell_type": "markdown",
   "id": "d0215ac9",
   "metadata": {},
   "source": [
    "#### Exercise\n",
    "Write a function, `sortList()`, that accepts a `list<int>` and returns a new list, with the contents sorted.\n",
    "Use any sorting algorithm you like. You're free to write additional helper functions."
   ]
  },
  {
   "cell_type": "code",
   "execution_count": null,
   "id": "613f90bf",
   "metadata": {},
   "outputs": [],
   "source": [
    "%%flour\n",
    "\n",
    "// Starter code:\n",
    "fn sortList(li: list<int>) -> list<int> { \n",
    "    ???\n",
    "}\n",
    "\n",
    "// Driver code:\n",
    "sortList([5, 3, 1, 6, 10, 2, 4, 9, 7, 8]).println();"
   ]
  },
  {
   "cell_type": "markdown",
   "id": "f845884b",
   "metadata": {},
   "source": [
    "## Defer\n",
    "`defer` delays execution of a statement until the current scope is left. This is most useful for cleaning up resources, for example unlocking a mutex at the end of a scope, because the deferred code will always run regardless of *how* control flow exits the current scope."
   ]
  },
  {
   "cell_type": "code",
   "execution_count": null,
   "id": "433648fe",
   "metadata": {},
   "outputs": [],
   "source": [
    "%%flour\n",
    "\n",
    "import parallel;\n",
    "\n",
    "let m = mutex(0);\n",
    "\n",
    "fn increment(m: mutex<int>) {\n",
    "    m.lock();\n",
    "    defer m.unlock();\n",
    "    m.set(m.get() + 1);\n",
    "}\n",
    "\n",
    "increment(m);\n",
    "increment(m);\n",
    "\n",
    "m.lock();\n",
    "println(m.get());"
   ]
  },
  {
   "cell_type": "markdown",
   "id": "3e329001",
   "metadata": {},
   "source": [
    "`defer` can be used to accomplish a similar effect to Java's try/finally.\n",
    "\n",
    "If Java had a mutex API resembling Flour's, the preceding cell might look like this in Java:"
   ]
  },
  {
   "cell_type": "code",
   "execution_count": null,
   "id": "17e74218",
   "metadata": {},
   "outputs": [],
   "source": [
    "%%java\n",
    "\n",
    "import java.util.concurrent.locks.ReentrantLock;\n",
    "\n",
    "class Mutex<T> {\n",
    "    ReentrantLock _lock = new ReentrantLock();\n",
    "    T value;\n",
    "    public void lock() { _lock.lock(); }\n",
    "    public void unlock() { _lock.unlock(); }\n",
    "    public T get() { return value; }\n",
    "    public void set(T i) { value = i; }\n",
    "    public Mutex(T i) { value = i; }\n",
    "}\n",
    "\n",
    "public class Main {\n",
    "    static void increment(Mutex<Integer> m) {\n",
    "        try {\n",
    "            m.lock();\n",
    "            m.set(m.get() + 1);\n",
    "        } finally {\n",
    "            m.unlock();\n",
    "        }\n",
    "    }\n",
    "    \n",
    "    public static void main(String[] args) {\n",
    "        Mutex<Integer> m = new Mutex<>(0);\n",
    "        increment(m);\n",
    "        increment(m);\n",
    "        \n",
    "        m.lock();\n",
    "        System.out.println(m.get());\n",
    "    }\n",
    "}"
   ]
  },
  {
   "cell_type": "markdown",
   "id": "f9c5895a",
   "metadata": {},
   "source": [
    "## More About Functions\n",
    "Flour supports first-class functions. In practical terms, that means you can pass them around like any other type of value."
   ]
  },
  {
   "cell_type": "code",
   "execution_count": null,
   "id": "5515dcc0",
   "metadata": {},
   "outputs": [],
   "source": [
    "%%flour\n",
    "\n",
    "fn createAdder() -> (int, int) -> int {\n",
    "    return (int a, int b) -> int {\n",
    "        return a + b;\n",
    "    };\n",
    "}\n",
    "\n",
    "let adderFunc = createAdder();\n",
    "\n",
    "adderFunc.println();\n",
    "adderFunc(3, 5).println();"
   ]
  },
  {
   "cell_type": "markdown",
   "id": "417fda00",
   "metadata": {},
   "source": [
    "createAdder() is a higher-order function. It is a function which returns another function.\n",
    "\n",
    "You can reference a normal named function like a variable by prefixing its name with `&`."
   ]
  },
  {
   "cell_type": "code",
   "execution_count": null,
   "id": "6aa34c84",
   "metadata": {},
   "outputs": [],
   "source": [
    "%%flour\n",
    "\n",
    "fn addNums(a: int, b: int) -> int {\n",
    "    return a + b;\n",
    "}\n",
    "\n",
    "let adder = &addNums;\n",
    "\n",
    "println(adder);\n",
    "println(adder(3, 5));"
   ]
  },
  {
   "cell_type": "markdown",
   "id": "dda94d45",
   "metadata": {},
   "source": [
    "Higher-order functions can also take functions as arguments. Imagine we wanted to write a method whose behavior we might want to customize. For example, a `filter()` function which discards elements in a list based on some predicate. We could pass a function to `filter()` which defines the predicate."
   ]
  },
  {
   "cell_type": "markdown",
   "id": "3fca814e",
   "metadata": {},
   "source": [
    "#### Exercise\n",
    "Try to complete the `filter()` function below."
   ]
  },
  {
   "cell_type": "code",
   "execution_count": null,
   "id": "465935ac",
   "metadata": {},
   "outputs": [],
   "source": [
    "%%flour\n",
    "\n",
    "// Given code:\n",
    "fn filter(listToFilter: list<int>, shouldWeKeepThis: (int) -> bool) -> list<int> {\n",
    "    ???\n",
    "}\n",
    "\n",
    "//Driver code:\n",
    "let li = [1..=20];\n",
    "let onlyOddNums = li.filter(bool(int a) => a % 2 != 0);\n",
    "println(onlyOddNums);"
   ]
  },
  {
   "cell_type": "markdown",
   "id": "b0d6e9a4",
   "metadata": {},
   "source": [
    "## Closures\n",
    "Anonymous functions have the ability to \"capture\" variables around them for later use, even when those variables are out of scope by the time the function is called. This combination of a function and its captured environment is called a closure."
   ]
  },
  {
   "cell_type": "code",
   "execution_count": null,
   "id": "d4d83e4c",
   "metadata": {},
   "outputs": [],
   "source": [
    "%%flour\n",
    "\n",
    "fn createAdder(int a) -> (int) -> int {\n",
    "    return (int b) -> int {\n",
    "        return a + b;\n",
    "    };\n",
    "}\n",
    "\n",
    "let addFive = createAdder(5);\n",
    "\n",
    "addFive.println();\n",
    "addFive(3).println();\n",
    "\n",
    "createAdder(40)(25).println();"
   ]
  },
  {
   "cell_type": "markdown",
   "id": "656672ba",
   "metadata": {},
   "source": [
    "Even though `a` has gone out of scope by the time we call `addFive(3)`, it still \"remembers\" what `a` was bound to."
   ]
  },
  {
   "cell_type": "markdown",
   "id": "013f54b1",
   "metadata": {},
   "source": [
    "It turns out that closures are all you need to implement classes and objects. Iterators and parallel data structures, for example, are implemented in Flour with closures.\n",
    "\n",
    "The following two cells are essentially equivalent."
   ]
  },
  {
   "cell_type": "code",
   "execution_count": null,
   "id": "b50104f5",
   "metadata": {},
   "outputs": [],
   "source": [
    "%%flour\n",
    "\n",
    "// Archetype-style object.\n",
    "\n",
    "archetype Generator {\n",
    "    n: int,\n",
    "    bound: int\n",
    "}\n",
    "\n",
    "constructor<Generator>(int n, int bound) {\n",
    "    $n, $bound\n",
    "}\n",
    "\n",
    "fn<Generator> next() -> int|void {\n",
    "    return if this.hasNext() {\n",
    "        defer this.n = this.n + 1;\n",
    "        this.n\n",
    "    };\n",
    "}\n",
    "\n",
    "fn<Generator> hasNext() -> bool {\n",
    "    return this.n < this.bound;\n",
    "}\n",
    "\n",
    "// Using our object:\n",
    "\n",
    "let gen = Generator(0, 10);\n",
    "while gen.hasNext() {\n",
    "    println(gen.next());\n",
    "}"
   ]
  },
  {
   "cell_type": "code",
   "execution_count": null,
   "id": "a3e07a4c",
   "metadata": {
    "scrolled": true
   },
   "outputs": [],
   "source": [
    "%%flour\n",
    "\n",
    "// Closure-style object.\n",
    "\n",
    "typedef Next      = () -> (int|void);\n",
    "typedef HasNext   = () -> bool;\n",
    "typedef Generator = (Next, HasNext);\n",
    "\n",
    "fn Generator(int n, int bound) -> Generator {\n",
    "    let t = {$n};\n",
    "\n",
    "    let hasNext = () -> bool {\n",
    "        return t.n < bound;\n",
    "    };\n",
    "\n",
    "    let next = () -> int|void {\n",
    "        return if hasNext() {\n",
    "            defer t.n = t.n + 1;\n",
    "            t.n\n",
    "        };\n",
    "    };\n",
    "\n",
    "    (next, hasNext)\n",
    "}\n",
    "\n",
    "fn next(Generator g)    -> int|void => (g.0)()\n",
    "fn hasNext(Generator g) -> bool     => (g.1)()\n",
    "\n",
    "// Using our \"object\":\n",
    "\n",
    "let gen = Generator(0, 10);\n",
    "while gen.hasNext() {\n",
    "    println(gen.next());\n",
    "}"
   ]
  },
  {
   "cell_type": "markdown",
   "id": "e91e159e",
   "metadata": {},
   "source": [
    "Note that closures perform capture *by value,* not by reference. This means you need to take care when you want a closure to have access to a mutable value type, such as `int`."
   ]
  },
  {
   "cell_type": "code",
   "execution_count": null,
   "id": "56480531",
   "metadata": {},
   "outputs": [],
   "source": [
    "%%flour\n",
    "\n",
    "// This code DOES NOT WORK how you might think!\n",
    "\n",
    "typedef Add = () -> void;\n",
    "typedef Get = () -> int;\n",
    "\n",
    "fn Foo() -> (Add, Get) {\n",
    "    let n = 0;\n",
    "    return (\n",
    "        void() { n = n + 1; },\n",
    "        int()  { n }\n",
    "    );\n",
    "}\n",
    "\n",
    "let (add, get) = Foo();\n",
    "\n",
    "add();\n",
    "add();\n",
    "\n",
    "println(get());"
   ]
  },
  {
   "cell_type": "markdown",
   "id": "9ca7e430",
   "metadata": {},
   "source": [
    "The easiest solution is to wrap value types in a reference type, such as a table."
   ]
  },
  {
   "cell_type": "code",
   "execution_count": null,
   "id": "1e7b8503",
   "metadata": {},
   "outputs": [],
   "source": [
    "%%flour\n",
    "\n",
    "typedef Add = () -> void;\n",
    "typedef Get = () -> int;\n",
    "\n",
    "fn Foo() -> (Add, Get) {\n",
    "    let t = {n -> 0};\n",
    "    return (\n",
    "        void() { t.n = t.n + 1; },\n",
    "        int()  { t.n }\n",
    "    );\n",
    "}\n",
    "\n",
    "let (add, get) = Foo();\n",
    "\n",
    "add();\n",
    "add();\n",
    "\n",
    "println(get());"
   ]
  },
  {
   "cell_type": "markdown",
   "id": "9b2d8836",
   "metadata": {},
   "source": [
    "## Generics\n",
    "Let's take another look at our `filter()` function from earlier."
   ]
  },
  {
   "cell_type": "code",
   "execution_count": null,
   "id": "e2980a5f",
   "metadata": {},
   "outputs": [],
   "source": [
    "%%flour\n",
    "\n",
    "fn filter(listToFilter: list<int>, shouldWeKeepThis: (int) -> bool) -> list<int> {\n",
    "    return for e in listToFilter {\n",
    "        if shouldWeKeepThis(e) {\n",
    "            push e;\n",
    "        }\n",
    "    };\n",
    "}"
   ]
  },
  {
   "cell_type": "markdown",
   "id": "be8aed68",
   "metadata": {},
   "source": [
    "This is fine, but what if we wanted to apply this function to any kind of list, not just `list<int>`?\n",
    "\n",
    "We could try swapping `int` for `*`."
   ]
  },
  {
   "cell_type": "code",
   "execution_count": null,
   "id": "64ba7979",
   "metadata": {},
   "outputs": [],
   "source": [
    "%%flour\n",
    "\n",
    "fn filter(listToFilter: list<*>, shouldWeKeepThis: (*) -> bool) -> list<*> {\n",
    "    return for e in listToFilter {\n",
    "        if shouldWeKeepThis(e) {\n",
    "            push e;\n",
    "        }\n",
    "    };\n",
    "}\n",
    "\n",
    "let a = [1..=10];\n",
    "let evens = a.filter(bool(*i) => i % 2 == 0);\n",
    "\n",
    "let b = [\"foo\", \"bar\", \"baz\"];\n",
    "let bWords = b.filter(bool(*s) => s.char(0) == 'b');\n",
    "\n",
    "println(evens);\n",
    "println(bWords);"
   ]
  },
  {
   "cell_type": "markdown",
   "id": "050e3891",
   "metadata": {},
   "source": [
    "At a glance, this does work. However, on top of destroying type information, it allows us to write nonsense."
   ]
  },
  {
   "cell_type": "code",
   "execution_count": null,
   "id": "b29d088b",
   "metadata": {},
   "outputs": [],
   "source": [
    "%%flour\n",
    "\n",
    "fn filter(listToFilter: list<*>, shouldWeKeepThis: (*) -> bool) -> list<*> {\n",
    "    return for e in listToFilter {\n",
    "        if shouldWeKeepThis(e) {\n",
    "            push e;\n",
    "        }\n",
    "    };\n",
    "}\n",
    "\n",
    "let b = [\"foo\", \"bar\", \"baz\"];\n",
    "let evens = b.filter(bool(*i) => i % 2 == 0);"
   ]
  },
  {
   "cell_type": "markdown",
   "id": "48623108",
   "metadata": {},
   "source": [
    "This crashes, of course. We know by looking at this code that it wouldn't work -- there's no way to take the modulo of a string -- but the language can't know that ahead of time. By using `*`, we have lost the ability to express the relationship between the function's parameters and its output. In this case, `*` really can be \"any type\", but it also must be the *same* type in all 3 places.\n",
    "\n",
    "We solve this problem with generics."
   ]
  },
  {
   "cell_type": "code",
   "execution_count": null,
   "id": "748a09a3",
   "metadata": {},
   "outputs": [],
   "source": [
    "%%flour\n",
    "\n",
    "fn [T] filter(listToFilter: list<T>, shouldWeKeepThis: (T) -> bool) -> list<T> {\n",
    "     return for e in listToFilter {\n",
    "        if shouldWeKeepThis(e) {\n",
    "            push e;\n",
    "        }\n",
    "    };\n",
    "}\n",
    "\n",
    "let a = [1..=10];\n",
    "let evens = a.filter(bool(int i) => i % 2 == 0);\n",
    "\n",
    "let b = [\"foo\", \"bar\", \"baz\"];\n",
    "let bWords = b.filter(bool(string s) => s.char(0) == 'b');\n",
    "\n",
    "println(evens);\n",
    "println(bWords);"
   ]
  },
  {
   "cell_type": "markdown",
   "id": "e07d50e9",
   "metadata": {},
   "source": [
    "By adding a type parameter `T`, we can now properly express the relationship between all the types it appears in, while still allowing the function to be used on lists of any type.\n",
    "\n",
    "Of course, we might need multiple type parameters for a single function. Consider `mapOpt()` from the `misc` library."
   ]
  },
  {
   "cell_type": "code",
   "execution_count": null,
   "id": "3cae5368",
   "metadata": {},
   "outputs": [],
   "source": [
    "%%flour\n",
    "\n",
    "fn [T, R] mapOpt(input: T|void, mappingFn: (T) -> R) -> R|void {\n",
    "    return match input {\n",
    "        T t -> mappingFn(t),\n",
    "        _ -> ()\n",
    "    };\n",
    "}\n",
    "\n",
    "let five  = 5;\n",
    "let empty = ();\n",
    "    \n",
    "let addTen = int(int a) => a + 10;\n",
    "\n",
    "five.mapOpt(addTen).println();\n",
    "empty.mapOpt(addTen).println();"
   ]
  },
  {
   "cell_type": "markdown",
   "id": "5e019023",
   "metadata": {},
   "source": [
    "This function accepts a possibly-absent value, applies a transformation to the value if it exists, then returns the result. Using `T` and `R`, we can properly express the relationship between the mapping function, the input, and the output.\n",
    "\n",
    "The input is of type `T|void`, the union of any arbitrary type and `void`. \n",
    "The output is of type `R|void`, the union of another arbitrary type and `void`.\n",
    "The relationship between these two types is brought together by the mapping function, `(T) -> R`. The return type of this function determines the return type of `mapOpt`, and the parameter type must agree with the supplied input.\n",
    "\n",
    "#### Exercise\n",
    "Consider the generic sorting algorithm below, and fill in the `???` with the correct type information."
   ]
  },
  {
   "cell_type": "code",
   "execution_count": null,
   "id": "dcad12fa",
   "metadata": {},
   "outputs": [],
   "source": [
    "%%flour\n",
    "\n",
    "// Given code:\n",
    "fn [T] sortBy(li: ???, comp: ???) {\n",
    "    let len = len(li);\n",
    "    \n",
    "    for i in [0..len] {\n",
    "        let minI = i;\n",
    "        \n",
    "        for j in [i+1..len] {\n",
    "            if comp(li[j], li[minI]) < 0 {\n",
    "                minI = j;\n",
    "            }\n",
    "        }\n",
    "        \n",
    "        li.swap(i, minI);\n",
    "    }\n",
    "}\n",
    "\n",
    "// Driver code:\n",
    "fn [T] swap(l: list<T>, i: int, j: int) {\n",
    "    let tmp = l[i];\n",
    "    l[i] = l[j];\n",
    "    l[j] = tmp;\n",
    "}    \n",
    "\n",
    "let la = [4, 3, 6, 5, 1, 9, 2, 8, 7];\n",
    "let lb := la;\n",
    "\n",
    "la.sortBy(int(int a, int b) => a - b);\n",
    "lb.sortBy(int(int a, int b) => b - a);\n",
    "\n",
    "let lc = [\"ab\", \"bac\", \"abcde\", \"abcd\", \"a\", \"abc\"];\n",
    "let ld := lc;\n",
    "    \n",
    "lc.sortBy(int(string a, string b) => len(a) - len(b));\n",
    "ld.sortBy(&compare);\n",
    "\n",
    "println(\"Ascending:       \" + la);\n",
    "println(\"Decending:       \" + lb);\n",
    "println(\"Lengthwise:      \" + lc);\n",
    "println(\"Lexicographical: \" + ld);"
   ]
  },
  {
   "cell_type": "markdown",
   "id": "ed363d35",
   "metadata": {},
   "source": [
    "## Libraries\n",
    "Using `import`, you can bring other Flour files into the current context, allowing you to call functions and utilize types defined within them.\n",
    "\n",
    "In this notebook, importing custom libraries will be impossible, so we will not cover how to write your own library files. However, you are still able to import various pre-packaged library files which make up the Flour Standard Library.\n",
    "\n",
    "Here are the most important libraries which are available for you to use:\n",
    "* parallel - Provides support for launching threads, as well as the Fut and Channel types.\n",
    "* lists - Provides various functions for operating on lists, such as map(), reduce(), and enumerate().\n",
    "* iter - Provides support for iterators."
   ]
  },
  {
   "cell_type": "code",
   "execution_count": null,
   "id": "ec2dd1ce",
   "metadata": {
    "scrolled": true
   },
   "outputs": [],
   "source": [
    "%%flour\n",
    "\n",
    "import iter;   // Bringing in the `iter` library.\n",
    "\n",
    "let a = [  1,   2,   3,   4,   5];\n",
    "let b = [\"A\", \"B\", \"C\", \"D\", \"E\"];\n",
    "\n",
    "let ab = a.zipIter(b);    // iter::zipIter() returns an iterator over 2 lists, zipped together.\n",
    "\n",
    "while ab.hasNext() {      // hasNext() and next() are member functions of an iterator.\n",
    "    println(ab.next());\n",
    "}"
   ]
  },
  {
   "cell_type": "markdown",
   "id": "0499d68a",
   "metadata": {},
   "source": [
    "Iterators are implemented as closure-style objects.\n",
    "\n",
    "This means that the type `Iter[T]` can be considered an interface, and an implementation of that interface\n",
    "is defined by a function (called a constructor) whose name indicates the name of the (sub)type.\n",
    "\n",
    "The built-in `Iter[T]()` constructor is, in fact, just one of many possible implementations of the `Iter[T]` interface.\n",
    "If we want to implement this `Iter[T]` interface ourselves to create a new kind of iterator with different behavior,\n",
    "we simply create a new constructor with a different name.\n",
    "\n",
    "This way of thinking about objects is rather advanced, especially if you are coming from languages like\n",
    "Java and C++ whose object-oriented paradigm much more closely resembles archetype-style objects."
   ]
  },
  {
   "cell_type": "code",
   "execution_count": null,
   "id": "445ae5fd",
   "metadata": {
    "scrolled": false
   },
   "outputs": [],
   "source": [
    "%%flour\n",
    "\n",
    "import iter;\n",
    "\n",
    "fn [T] InfiniteIter(init: T, nextFn: (T) -> T) -> Iter[T] {\n",
    "    let final state = { i -> init };\n",
    "    \n",
    "    return (\n",
    "        IterRet[T]() {   // next()\n",
    "            defer state.i = nextFn(state.i);\n",
    "            state.i\n",
    "        },\n",
    "        bool() => true   // hasNext()\n",
    "    );\n",
    "}\n",
    "\n",
    "fn [N : number] InfiniteAscendingIter(init: N) -> Iter[N] => InfiniteIter(init, N(N a) => a + 1)\n",
    "\n",
    "let itr = InfiniteAscendingIter(1.5);\n",
    "\n",
    "for x in [0..15] {\n",
    "    println(itr.next());\n",
    "}"
   ]
  },
  {
   "cell_type": "markdown",
   "id": "4eef190a",
   "metadata": {},
   "source": [
    "Here's a Java equivalent of what we just wrote:"
   ]
  },
  {
   "cell_type": "code",
   "execution_count": null,
   "id": "a0260d11",
   "metadata": {},
   "outputs": [],
   "source": [
    "%%java\n",
    "\n",
    "import java.util.*;\n",
    "import java.util.function.*;\n",
    "\n",
    "public class Main {\n",
    "    \n",
    "    static class InfiniteIter<T> implements Iterator<T> {\n",
    "        private T i;\n",
    "        private Function<T, T> nextFn;\n",
    "        \n",
    "        public InfiniteIter(T init, Function<T, T> nextFn) {\n",
    "            this.i = init;\n",
    "            this.nextFn = nextFn;\n",
    "        }\n",
    "        \n",
    "        public boolean hasNext() {\n",
    "            return true;\n",
    "        }\n",
    "        \n",
    "        public T next() {\n",
    "            T last = i;\n",
    "            i = nextFn.apply(i);\n",
    "            return last;\n",
    "        }\n",
    "    }\n",
    "    \n",
    "    static class InfiniteAscendingIter<N extends Number> extends InfiniteIter<Number> {\n",
    "        public InfiniteAscendingIter(N init) {\n",
    "            super(init, (Number a) -> {\n",
    "                if (a instanceof Double || a instanceof Float) {\n",
    "                    return a.doubleValue() + 1.0;\n",
    "                } else {\n",
    "                    return a.longValue() + 1;\n",
    "                }\n",
    "            });\n",
    "        }\n",
    "    }\n",
    "    \n",
    "    public static void main(String[] args) {\n",
    "        InfiniteAscendingIter<Double> itr = new InfiniteAscendingIter<>(1.5);\n",
    "        \n",
    "        for (int x = 0; x < 15; ++x) {\n",
    "            System.out.println(itr.next());\n",
    "        }\n",
    "    }\n",
    "}"
   ]
  },
  {
   "cell_type": "markdown",
   "id": "64e9a8ba",
   "metadata": {},
   "source": [
    "## Parallelism\n",
    "Flour's parallelism paradigm revolves around the concept of \"Shareability\", which is enforced by a special type of closure called a \"Share Closure\". By strictly regulating how and when threads share memory, an entire class of parallel programming bugs becomes impossible to write in Flour.\n",
    "\n",
    "### Share\n",
    "Shareability is expressed with the `share` type attribute. If a type is `share`, that means Flour considers it safe for multiple threads to access it simultaneously.\n",
    "\n",
    "The following types are always `share`:\n",
    "* Value types (int, bool, string, etc.)\n",
    "* Mutexes\n",
    "* Atomics\n",
    "* Share closures\n",
    "\n",
    "The following types are `share` if all their members are `share`:\n",
    "* Tuples\n",
    "* Unions\n",
    "\n",
    "Otherwise, any deeply immutable type is `share`.\n",
    "Use of the `imut` type specifier may help with this.\n",
    "For example, `list<int>` is not `share`, but `imut list<int>` is.\n",
    "\n",
    "It is not necessary to annotate types as `share`; it is simply\n",
    "a property of the type.\n",
    "\n",
    "### Share Closures\n",
    "Share Closures are written like anonymous functions, prefixed\n",
    "with `share<...>` or `acquire<...>`, where `...` is a list of \n",
    "variables to capture. Only variables which satisfy the `share`\n",
    "type attribute can be captured. Unlike with normal anonymous\n",
    "functions, variable capture is strictly explicit; any symbol\n",
    "not present in the `share<>` list will not be captured."
   ]
  },
  {
   "cell_type": "code",
   "execution_count": null,
   "id": "bb9c0e30",
   "metadata": {},
   "outputs": [],
   "source": [
    "%%flour\n",
    "\n",
    "let m = mutex(0);\n",
    "\n",
    "let incr = share<m> void() {\n",
    "    m.lock();\n",
    "    defer m.unlock();\n",
    "    m.set(m.get() + 1);\n",
    "};\n",
    "\n",
    "incr();\n",
    "\n",
    "m.lock();\n",
    "println(m.get());"
   ]
  },
  {
   "cell_type": "markdown",
   "id": "a89f1f2c",
   "metadata": {},
   "source": [
    "Share closures don't do anything special on their own. To actually run code in parallel, you need to pass a share closure to the `spawn()` function, found in the `parallel` library.\n",
    "\n",
    "`spawn()` submits a task to the thread pool, then returns immediately. Whatever function you supply to `spawn()` will be automatically called and run in parallel.\n",
    "\n",
    "`spawn()` returns a handle to the spawned task. You can call `join()` on this handle to block until the task is complete. If the provided task also returns a value, it will propagate up to `join()`.\n",
    "\n",
    "`spawn()` will ONLY accept share closures; normal functions cannot be passed to `spawn()`."
   ]
  },
  {
   "cell_type": "code",
   "execution_count": null,
   "id": "afaab686",
   "metadata": {},
   "outputs": [],
   "source": [
    "%%flour\n",
    "\n",
    "import parallel;\n",
    "\n",
    "let m = mutex(0);\n",
    "\n",
    "let incr = share<m> void() {\n",
    "    m.lock();\n",
    "    defer m.unlock();\n",
    "    m.set(m.get() + 1);\n",
    "};\n",
    "\n",
    "spawn(incr).join(); // Run incr() in a new thread, then wait for it to finish.\n",
    "\n",
    "m.lock();\n",
    "println(m.get());"
   ]
  },
  {
   "cell_type": "code",
   "execution_count": null,
   "id": "cdd9b1f8",
   "metadata": {},
   "outputs": [],
   "source": [
    "%%flour\n",
    "\n",
    "import parallel;\n",
    "\n",
    "let m = mutex(0);\n",
    "\n",
    "let incr = share<m> void() {\n",
    "    m.lock();\n",
    "    defer m.unlock();\n",
    "    m.set(m.get() + 1);\n",
    "};\n",
    "\n",
    "let get = share<m> int() {\n",
    "    m.lock();\n",
    "    defer m.unlock();\n",
    "    m.get()\n",
    "};\n",
    "\n",
    "spawn(incr).join();\n",
    "\n",
    "println(spawn(get).join());"
   ]
  },
  {
   "cell_type": "markdown",
   "id": "7994a0aa",
   "metadata": {},
   "source": [
    "Using `acquire<>` instead of `share<>` will automatically\n",
    "acquire and release captured resources when the task is called.\n",
    "Because `acquire<>` might need to wait for resources, calling a share closure\n",
    "defined with `acquire<>` implies an arbitrary, possibly infinite \n",
    "delay before running. Resources will *not* be acquired until the function\n",
    "is explicitly called, either by `spawn()` or manually."
   ]
  },
  {
   "cell_type": "code",
   "execution_count": null,
   "id": "e26c7abb",
   "metadata": {},
   "outputs": [],
   "source": [
    "%%flour\n",
    "\n",
    "import parallel;\n",
    "\n",
    "let m = mutex(0);\n",
    "\n",
    "spawn(acquire<m> void() {\n",
    "    m.set(1); // Don't need to lock() or unlock()!\n",
    "}).join();\n",
    "\n",
    "m.lock();\n",
    "println(m.get());"
   ]
  },
  {
   "cell_type": "code",
   "execution_count": null,
   "id": "e16b53d3",
   "metadata": {},
   "outputs": [],
   "source": []
  }
 ],
 "metadata": {
  "kernelspec": {
   "display_name": "Python 3 (ipykernel)",
   "language": "python",
   "name": "python3"
  },
  "language_info": {
   "codemirror_mode": {
    "name": "ipython",
    "version": 3
   },
   "file_extension": ".py",
   "mimetype": "text/x-python",
   "name": "python",
   "nbconvert_exporter": "python",
   "pygments_lexer": "ipython3",
   "version": "3.8.10"
  }
 },
 "nbformat": 4,
 "nbformat_minor": 5
}
